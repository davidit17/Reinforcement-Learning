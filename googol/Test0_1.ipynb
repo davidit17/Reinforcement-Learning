{
  "nbformat": 4,
  "nbformat_minor": 0,
  "metadata": {
    "colab": {
      "name": "Test0-1.ipynb",
      "provenance": [],
      "collapsed_sections": []
    },
    "kernelspec": {
      "name": "python3",
      "display_name": "Python 3"
    }
  },
  "cells": [
    {
      "cell_type": "code",
      "metadata": {
        "id": "4AVaIrAg2xfG",
        "colab_type": "code",
        "colab": {}
      },
      "source": [
        "import sys\n",
        "import os\n",
        "sys.path.append('/content/gdrive/My Drive/Colab Notebooks/googol')"
      ],
      "execution_count": 0,
      "outputs": []
    },
    {
      "cell_type": "code",
      "metadata": {
        "id": "eTHDblD6Atfy",
        "colab_type": "code",
        "colab": {}
      },
      "source": [
        "import TheGame as T"
      ],
      "execution_count": 0,
      "outputs": []
    },
    {
      "cell_type": "code",
      "metadata": {
        "id": "GeL2fFby-8Yo",
        "colab_type": "code",
        "colab": {}
      },
      "source": [
        "n = 10\n",
        "Nexper = 1000000"
      ],
      "execution_count": 0,
      "outputs": []
    },
    {
      "cell_type": "code",
      "metadata": {
        "id": "Zr2FyE-M3oQ0",
        "colab_type": "code",
        "colab": {
          "base_uri": "https://localhost:8080/",
          "height": 51
        },
        "outputId": "83b741aa-cbd7-4c44-96ef-fbca18f44ede"
      },
      "source": [
        "sco = T.Score()\n",
        "agnt = T.Agent('random',n)\n",
        "Game = T.Game(agnt,sco,n=n)\n",
        "\n",
        "sco.prntscore()\n",
        "\n",
        "for game in range(Nexper):\n",
        "\n",
        "    Game.playgame()\n",
        "\n",
        "prntsco(*sco.retscore())"
      ],
      "execution_count": 87,
      "outputs": [
        {
          "output_type": "stream",
          "text": [
            "wins:  0  losses:  0 total:  0\n",
            "wins:  105498  losses:  894502 total:  1000000\n"
          ],
          "name": "stdout"
        }
      ]
    },
    {
      "cell_type": "code",
      "metadata": {
        "id": "JQY5ZLzA4UdH",
        "colab_type": "code",
        "colab": {
          "base_uri": "https://localhost:8080/",
          "height": 51
        },
        "outputId": "9218ca56-790b-4d07-a02e-f531d30fcb34"
      },
      "source": [
        "sco = T.Score()\n",
        "agnt = T.Agent('E',n)\n",
        "Game = T.Game(agnt,sco,n=n)\n",
        "\n",
        "sco.prntscore()\n",
        "\n",
        "for game in range(Nexper):\n",
        "\n",
        "    Game.playgame()\n",
        "\n",
        "prntsco(*sco.retscore())"
      ],
      "execution_count": 88,
      "outputs": [
        {
          "output_type": "stream",
          "text": [
            "wins:  0  losses:  0 total:  0\n",
            "wins:  378315  losses:  621685 total:  1000000\n"
          ],
          "name": "stdout"
        }
      ]
    },
    {
      "cell_type": "code",
      "metadata": {
        "id": "-wQvs0Ns-o6M",
        "colab_type": "code",
        "colab": {
          "base_uri": "https://localhost:8080/",
          "height": 51
        },
        "outputId": "2fc83599-74fb-423b-c850-ed79e5dca791"
      },
      "source": [
        "sco = T.Score()\n",
        "agnt = T.Agent('sqrt',n)\n",
        "Game = T.Game(agnt,sco,n=n)\n",
        "\n",
        "sco.prntscore()\n",
        "\n",
        "for game in range(Nexper):\n",
        "\n",
        "    Game.playgame()\n",
        "\n",
        "prntsco(*sco.retscore())"
      ],
      "execution_count": 89,
      "outputs": [
        {
          "output_type": "stream",
          "text": [
            "wins:  0  losses:  0 total:  0\n",
            "wins:  413041  losses:  586959 total:  1000000\n"
          ],
          "name": "stdout"
        }
      ]
    },
    {
      "cell_type": "code",
      "metadata": {
        "id": "bkGa2Y9I-vgz",
        "colab_type": "code",
        "colab": {}
      },
      "source": [
        ""
      ],
      "execution_count": 0,
      "outputs": []
    }
  ]
}